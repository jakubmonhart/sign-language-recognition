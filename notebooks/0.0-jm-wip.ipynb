{
 "cells": [
  {
   "cell_type": "code",
   "execution_count": 7,
   "metadata": {},
   "outputs": [
    {
     "name": "stdout",
     "output_type": "stream",
     "text": [
      "torch.Size([1, 3, 50, 224, 224])\n",
      "torch.Size([1, 3, 50, 224, 224])\n",
      "torch.Size([1, 3, 50, 224, 224])\n",
      "data/sample-videos/32333.mp4 unsuccesfull read at frame: 37/38\n",
      "torch.Size([1, 3, 50, 224, 224])\n",
      "torch.Size([1, 3, 50, 224, 224])\n",
      "torch.Size([1, 3, 50, 224, 224])\n",
      "torch.Size([1, 3, 50, 224, 224])\n"
     ]
    }
   ],
   "source": [
    "from data import WLASL\n",
    "\n",
    "from torchvision import transforms\n",
    "import videotransforms\n",
    "\n",
    "from torch.utils.data import DataLoader\n",
    "\n",
    "# Train dataset transforms\n",
    "train_transforms = transforms.Compose([videotransforms.RandomCrop(224),\n",
    "                                           videotransforms.RandomHorizontalFlip()])\n",
    "\n",
    "# Create dataset\n",
    "train_dataset = WLASL(\n",
    "    json_file='data/WLASL_v0.3.json', videos_path='data/sample-videos',\n",
    "    split='train', transforms=train_transforms)\n",
    "\n",
    "train_dataloader = DataLoader(\n",
    "    train_dataset, batch_size=1, shuffle=True, num_workers=0)\n",
    "\n",
    "# Try to load videos\n",
    "for b in train_dataloader:\n",
    "    print(b['X'].shape)"
   ]
  },
  {
   "cell_type": "code",
   "execution_count": null,
   "metadata": {},
   "outputs": [],
   "source": []
  }
 ],
 "metadata": {
  "kernelspec": {
   "display_name": "vir",
   "language": "python",
   "name": "vir"
  },
  "language_info": {
   "codemirror_mode": {
    "name": "ipython",
    "version": 3
   },
   "file_extension": ".py",
   "mimetype": "text/x-python",
   "name": "python",
   "nbconvert_exporter": "python",
   "pygments_lexer": "ipython3",
   "version": "3.8.5"
  }
 },
 "nbformat": 4,
 "nbformat_minor": 4
}
